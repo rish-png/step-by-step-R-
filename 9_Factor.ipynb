{
 "cells": [
  {
   "cell_type": "markdown",
   "metadata": {},
   "source": [
    "## Factors\n",
    "Used to store data in different level. Useful when we have a lot of repeating values."
   ]
  },
  {
   "cell_type": "code",
   "execution_count": 1,
   "metadata": {},
   "outputs": [
    {
     "name": "stdout",
     "output_type": "stream",
     "text": [
      "[1] \"Apple\"  \"Banana\" \"Apple\"  \"Orange\" \"Orange\" \"Orange\" \"Apple\"  \"Apple\" \n",
      "[9] \"Banana\"\n"
     ]
    }
   ],
   "source": [
    "v1 = c(\"Apple\", \"Banana\", \"Apple\", \"Orange\",  \"Orange\", \n",
    "       \"Orange\", \"Apple\", \"Apple\", \"Banana\")\n",
    "print(v1)"
   ]
  },
  {
   "cell_type": "code",
   "execution_count": 2,
   "metadata": {},
   "outputs": [
    {
     "name": "stdout",
     "output_type": "stream",
     "text": [
      "[1] Apple  Banana Apple  Orange Orange Orange Apple  Apple  Banana\n",
      "Levels: Apple Banana Orange\n",
      " Factor w/ 3 levels \"Apple\",\"Banana\",..: 1 2 1 3 3 3 1 1 2\n"
     ]
    }
   ],
   "source": [
    "v1factor = factor(v1)\n",
    "print(v1factor)\n",
    "str(v1factor)           # str gives the structure"
   ]
  },
  {
   "cell_type": "code",
   "execution_count": 3,
   "metadata": {},
   "outputs": [
    {
     "name": "stdout",
     "output_type": "stream",
     "text": [
      " [1] A A A A B B B B C C C C\n",
      "Levels: A B C\n",
      " Factor w/ 3 levels \"A\",\"B\",\"C\": 1 1 1 1 2 2 2 2 3 3 ...\n"
     ]
    }
   ],
   "source": [
    "# Generate Factor Levels (gl)\n",
    "# n: number of levels.\n",
    "# k: number of replications.\n",
    "\n",
    "fact1 = gl(n=3, k=4, labels=c('A', 'B', 'C'))\n",
    "print(fact1)\n",
    "str(fact1)"
   ]
  },
  {
   "cell_type": "code",
   "execution_count": 4,
   "metadata": {},
   "outputs": [],
   "source": [
    "v2 = c(\"Apple\", \"Banana\", \"Apple\", \"Orange\",  \"Orange\", \"Orange\", \"Apple\",\n",
    "       \"Apple\", \"Banana\", \"Apple\", \"Banana\",\"Apple\", \"Orange\",  \"Orange\", \n",
    "       \"Orange\", \"Apple\", \"Apple\", \"Banana\", \"Apple\", \"Banana\", \"Apple\",\n",
    "       \"Apple\", \"Banana\", \"Apple\", \"Orange\",  \"Orange\", \"Orange\", \"Apple\",\n",
    "       \"Apple\", \"Banana\", \"Apple\", \"Banana\",\"Apple\", \"Orange\",  \"Orange\", \n",
    "       \"Orange\", \"Apple\", \"Apple\", \"Banana\", \"Apple\", \"Banana\", \"Apple\",\n",
    "       \"Apple\", \"Banana\", \"Apple\", \"Orange\",  \"Orange\", \"Orange\", \"Apple\",\n",
    "       \"Apple\", \"Banana\", \"Apple\", \"Banana\",\"Apple\", \"Orange\",  \"Orange\", \n",
    "       \"Orange\", \"Apple\", \"Apple\", \"Banana\", \"Apple\", \"Banana\", \"Apple\",\n",
    "       \"Apple\", \"Banana\", \"Apple\", \"Orange\",  \"Orange\", \"Orange\", \"Apple\",\n",
    "       \"Apple\", \"Banana\", \"Apple\", \"Banana\",\"Apple\", \"Orange\",  \"Orange\", \n",
    "       \"Orange\", \"Apple\", \"Apple\", \"Banana\", \"Apple\", \"Banana\", \"Apple\",\n",
    "       \"Apple\", \"Banana\", \"Apple\", \"Orange\",  \"Orange\", \"Orange\", \"Apple\",\n",
    "       \"Apple\", \"Banana\", \"Apple\", \"Banana\",\"Apple\", \"Orange\",  \"Orange\", \n",
    "       \"Orange\", \"Apple\", \"Apple\", \"Banana\", \"Apple\", \"Banana\", \"Apple\",\n",
    "       \"Apple\", \"Banana\", \"Apple\", \"Orange\",  \"Orange\", \"Orange\", \"Apple\",\n",
    "       \"Apple\", \"Banana\", \"Apple\", \"Banana\",\"Apple\", \"Orange\",  \"Orange\", \n",
    "       \"Orange\", \"Apple\", \"Apple\", \"Banana\", \"Apple\", \"Banana\", \"Apple\",\n",
    "       \"Apple\", \"Banana\", \"Apple\", \"Orange\",  \"Orange\", \"Orange\", \"Apple\",\n",
    "       \"Apple\", \"Banana\", \"Apple\", \"Banana\",\"Apple\", \"Orange\",  \"Orange\", \n",
    "       \"Orange\", \"Apple\", \"Apple\", \"Banana\", \"Apple\", \"Banana\", \"Apple\",\n",
    "       \"Apple\", \"Banana\", \"Apple\", \"Orange\",  \"Orange\", \"Orange\", \"Apple\",\n",
    "       \"Apple\", \"Banana\", \"Apple\", \"Banana\",\"Apple\", \"Orange\",  \"Orange\", \n",
    "       \"Orange\", \"Apple\", \"Apple\", \"Banana\", \"Apple\", \"Banana\", \"Apple\",\n",
    "       \"Apple\", \"Banana\", \"Apple\", \"Orange\",  \"Orange\", \"Orange\", \"Apple\",\n",
    "       \"Apple\", \"Banana\", \"Apple\", \"Banana\",\"Apple\", \"Orange\",  \"Orange\", \n",
    "       \"Orange\", \"Apple\", \"Apple\", \"Banana\", \"Apple\", \"Banana\", \"Apple\",\n",
    "       \"Apple\", \"Banana\", \"Apple\", \"Orange\",  \"Orange\", \"Orange\", \"Apple\",\n",
    "       \"Apple\", \"Banana\", \"Apple\", \"Banana\",\"Apple\", \"Orange\",  \"Orange\", \n",
    "       \"Orange\", \"Apple\", \"Apple\", \"Banana\", \"Apple\", \"Banana\", \"Apple\",\n",
    "       \"Apple\", \"Banana\", \"Apple\", \"Orange\",  \"Orange\", \"Orange\", \"Apple\",\n",
    "       \"Apple\", \"Banana\", \"Apple\", \"Banana\",\"Apple\", \"Orange\",  \"Orange\", \n",
    "       \"Orange\", \"Apple\", \"Apple\", \"Banana\", \"Apple\", \"Banana\", \"Apple\",\n",
    "       \"Apple\", \"Banana\", \"Apple\", \"Orange\",  \"Orange\", \"Orange\", \"Apple\",\n",
    "       \"Apple\", \"Banana\", \"Apple\", \"Banana\",\"Apple\", \"Orange\",  \"Orange\", \n",
    "       \"Orange\", \"Apple\", \"Apple\", \"Banana\", \"Apple\", \"Banana\", \"Apple\")"
   ]
  },
  {
   "cell_type": "code",
   "execution_count": 5,
   "metadata": {},
   "outputs": [],
   "source": [
    "v2factor = factor(v2)"
   ]
  },
  {
   "cell_type": "code",
   "execution_count": 6,
   "metadata": {},
   "outputs": [
    {
     "data": {
      "text/plain": [
       "2232 bytes"
      ]
     },
     "metadata": {},
     "output_type": "display_data"
    }
   ],
   "source": [
    "object.size(v2)"
   ]
  },
  {
   "cell_type": "code",
   "execution_count": 7,
   "metadata": {},
   "outputs": [
    {
     "data": {
      "text/plain": [
       "1640 bytes"
      ]
     },
     "metadata": {},
     "output_type": "display_data"
    }
   ],
   "source": [
    "object.size(v2factor)"
   ]
  },
  {
   "cell_type": "code",
   "execution_count": 8,
   "metadata": {},
   "outputs": [
    {
     "name": "stdout",
     "output_type": "stream",
     "text": [
      " chr [1:252] \"Apple\" \"Banana\" \"Apple\" \"Orange\" \"Orange\" \"Orange\" \"Apple\" ...\n"
     ]
    }
   ],
   "source": [
    "str(v2)"
   ]
  },
  {
   "cell_type": "code",
   "execution_count": 9,
   "metadata": {},
   "outputs": [
    {
     "name": "stdout",
     "output_type": "stream",
     "text": [
      " Factor w/ 3 levels \"Apple\",\"Banana\",..: 1 2 1 3 3 3 1 1 2 1 ...\n"
     ]
    }
   ],
   "source": [
    "str(v2factor)"
   ]
  }
 ],
 "metadata": {
  "kernelspec": {
   "display_name": "R",
   "language": "R",
   "name": "ir"
  },
  "language_info": {
   "codemirror_mode": "r",
   "file_extension": ".r",
   "mimetype": "text/x-r-source",
   "name": "R",
   "pygments_lexer": "r",
   "version": "4.0.2"
  }
 },
 "nbformat": 4,
 "nbformat_minor": 4
}
