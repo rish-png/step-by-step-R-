{
 "cells": [
  {
   "cell_type": "markdown",
   "metadata": {},
   "source": [
    "Types of file type commonly imported are .txt, .csv, .xls, .xlsx, .json."
   ]
  },
  {
   "cell_type": "markdown",
   "metadata": {},
   "source": [
    "<ins>Prereq</ins>: rio must be installed. If not run `install.packages('rio')` in R terminal"
   ]
  },
  {
   "cell_type": "code",
   "execution_count": 1,
   "metadata": {},
   "outputs": [],
   "source": [
    "library(rio)"
   ]
  },
  {
   "cell_type": "code",
   "execution_count": 2,
   "metadata": {},
   "outputs": [
    {
     "data": {
      "text/html": [
       "<table>\n",
       "<caption>A data.frame: 6 × 4</caption>\n",
       "<thead>\n",
       "\t<tr><th></th><th scope=col>Month</th><th scope=col>Mozart</th><th scope=col>Beethoven</th><th scope=col>Bach</th></tr>\n",
       "\t<tr><th></th><th scope=col>&lt;chr&gt;</th><th scope=col>&lt;int&gt;</th><th scope=col>&lt;int&gt;</th><th scope=col>&lt;int&gt;</th></tr>\n",
       "</thead>\n",
       "<tbody>\n",
       "\t<tr><th scope=row>1</th><td>2004-01</td><td>12</td><td>8</td><td>15</td></tr>\n",
       "\t<tr><th scope=row>2</th><td>2004-02</td><td>12</td><td>9</td><td>15</td></tr>\n",
       "\t<tr><th scope=row>3</th><td>2004-03</td><td>12</td><td>9</td><td>14</td></tr>\n",
       "\t<tr><th scope=row>4</th><td>2004-04</td><td>12</td><td>8</td><td>14</td></tr>\n",
       "\t<tr><th scope=row>5</th><td>2004-05</td><td>11</td><td>9</td><td>13</td></tr>\n",
       "\t<tr><th scope=row>6</th><td>2004-06</td><td> 9</td><td>7</td><td>12</td></tr>\n",
       "</tbody>\n",
       "</table>\n"
      ],
      "text/latex": [
       "A data.frame: 6 × 4\n",
       "\\begin{tabular}{r|llll}\n",
       "  & Month & Mozart & Beethoven & Bach\\\\\n",
       "  & <chr> & <int> & <int> & <int>\\\\\n",
       "\\hline\n",
       "\t1 & 2004-01 & 12 & 8 & 15\\\\\n",
       "\t2 & 2004-02 & 12 & 9 & 15\\\\\n",
       "\t3 & 2004-03 & 12 & 9 & 14\\\\\n",
       "\t4 & 2004-04 & 12 & 8 & 14\\\\\n",
       "\t5 & 2004-05 & 11 & 9 & 13\\\\\n",
       "\t6 & 2004-06 &  9 & 7 & 12\\\\\n",
       "\\end{tabular}\n"
      ],
      "text/markdown": [
       "\n",
       "A data.frame: 6 × 4\n",
       "\n",
       "| <!--/--> | Month &lt;chr&gt; | Mozart &lt;int&gt; | Beethoven &lt;int&gt; | Bach &lt;int&gt; |\n",
       "|---|---|---|---|---|\n",
       "| 1 | 2004-01 | 12 | 8 | 15 |\n",
       "| 2 | 2004-02 | 12 | 9 | 15 |\n",
       "| 3 | 2004-03 | 12 | 9 | 14 |\n",
       "| 4 | 2004-04 | 12 | 8 | 14 |\n",
       "| 5 | 2004-05 | 11 | 9 | 13 |\n",
       "| 6 | 2004-06 |  9 | 7 | 12 |\n",
       "\n"
      ],
      "text/plain": [
       "  Month   Mozart Beethoven Bach\n",
       "1 2004-01 12     8         15  \n",
       "2 2004-02 12     9         15  \n",
       "3 2004-03 12     9         14  \n",
       "4 2004-04 12     8         14  \n",
       "5 2004-05 11     9         13  \n",
       "6 2004-06  9     7         12  "
      ]
     },
     "metadata": {},
     "output_type": "display_data"
    }
   ],
   "source": [
    "csv_file <- import('../datasets/mbb.csv')\n",
    "head(csv_file)"
   ]
  },
  {
   "cell_type": "code",
   "execution_count": 3,
   "metadata": {},
   "outputs": [
    {
     "data": {
      "text/html": [
       "<table>\n",
       "<caption>A data.frame: 6 × 4</caption>\n",
       "<thead>\n",
       "\t<tr><th></th><th scope=col>Month</th><th scope=col>Mozart</th><th scope=col>Beethoven</th><th scope=col>Bach</th></tr>\n",
       "\t<tr><th></th><th scope=col>&lt;chr&gt;</th><th scope=col>&lt;int&gt;</th><th scope=col>&lt;int&gt;</th><th scope=col>&lt;int&gt;</th></tr>\n",
       "</thead>\n",
       "<tbody>\n",
       "\t<tr><th scope=row>1</th><td>2004-01</td><td>12</td><td>8</td><td>15</td></tr>\n",
       "\t<tr><th scope=row>2</th><td>2004-02</td><td>12</td><td>9</td><td>15</td></tr>\n",
       "\t<tr><th scope=row>3</th><td>2004-03</td><td>12</td><td>9</td><td>14</td></tr>\n",
       "\t<tr><th scope=row>4</th><td>2004-04</td><td>12</td><td>8</td><td>14</td></tr>\n",
       "\t<tr><th scope=row>5</th><td>2004-05</td><td>11</td><td>9</td><td>13</td></tr>\n",
       "\t<tr><th scope=row>6</th><td>2004-06</td><td> 9</td><td>7</td><td>12</td></tr>\n",
       "</tbody>\n",
       "</table>\n"
      ],
      "text/latex": [
       "A data.frame: 6 × 4\n",
       "\\begin{tabular}{r|llll}\n",
       "  & Month & Mozart & Beethoven & Bach\\\\\n",
       "  & <chr> & <int> & <int> & <int>\\\\\n",
       "\\hline\n",
       "\t1 & 2004-01 & 12 & 8 & 15\\\\\n",
       "\t2 & 2004-02 & 12 & 9 & 15\\\\\n",
       "\t3 & 2004-03 & 12 & 9 & 14\\\\\n",
       "\t4 & 2004-04 & 12 & 8 & 14\\\\\n",
       "\t5 & 2004-05 & 11 & 9 & 13\\\\\n",
       "\t6 & 2004-06 &  9 & 7 & 12\\\\\n",
       "\\end{tabular}\n"
      ],
      "text/markdown": [
       "\n",
       "A data.frame: 6 × 4\n",
       "\n",
       "| <!--/--> | Month &lt;chr&gt; | Mozart &lt;int&gt; | Beethoven &lt;int&gt; | Bach &lt;int&gt; |\n",
       "|---|---|---|---|---|\n",
       "| 1 | 2004-01 | 12 | 8 | 15 |\n",
       "| 2 | 2004-02 | 12 | 9 | 15 |\n",
       "| 3 | 2004-03 | 12 | 9 | 14 |\n",
       "| 4 | 2004-04 | 12 | 8 | 14 |\n",
       "| 5 | 2004-05 | 11 | 9 | 13 |\n",
       "| 6 | 2004-06 |  9 | 7 | 12 |\n",
       "\n"
      ],
      "text/plain": [
       "  Month   Mozart Beethoven Bach\n",
       "1 2004-01 12     8         15  \n",
       "2 2004-02 12     9         15  \n",
       "3 2004-03 12     9         14  \n",
       "4 2004-04 12     8         14  \n",
       "5 2004-05 11     9         13  \n",
       "6 2004-06  9     7         12  "
      ]
     },
     "metadata": {},
     "output_type": "display_data"
    }
   ],
   "source": [
    "txt_file<- import('../datasets/mbb.txt')\n",
    "head(txt_file)"
   ]
  },
  {
   "cell_type": "code",
   "execution_count": 4,
   "metadata": {},
   "outputs": [
    {
     "data": {
      "text/html": [
       "<table>\n",
       "<caption>A data.frame: 6 × 4</caption>\n",
       "<thead>\n",
       "\t<tr><th></th><th scope=col>Month</th><th scope=col>Mozart</th><th scope=col>Beethoven</th><th scope=col>Bach</th></tr>\n",
       "\t<tr><th></th><th scope=col>&lt;chr&gt;</th><th scope=col>&lt;dbl&gt;</th><th scope=col>&lt;dbl&gt;</th><th scope=col>&lt;dbl&gt;</th></tr>\n",
       "</thead>\n",
       "<tbody>\n",
       "\t<tr><th scope=row>1</th><td>2004-01</td><td>12</td><td>8</td><td>15</td></tr>\n",
       "\t<tr><th scope=row>2</th><td>2004-02</td><td>12</td><td>9</td><td>15</td></tr>\n",
       "\t<tr><th scope=row>3</th><td>2004-03</td><td>12</td><td>9</td><td>14</td></tr>\n",
       "\t<tr><th scope=row>4</th><td>2004-04</td><td>12</td><td>8</td><td>14</td></tr>\n",
       "\t<tr><th scope=row>5</th><td>2004-05</td><td>11</td><td>9</td><td>13</td></tr>\n",
       "\t<tr><th scope=row>6</th><td>2004-06</td><td> 9</td><td>7</td><td>12</td></tr>\n",
       "</tbody>\n",
       "</table>\n"
      ],
      "text/latex": [
       "A data.frame: 6 × 4\n",
       "\\begin{tabular}{r|llll}\n",
       "  & Month & Mozart & Beethoven & Bach\\\\\n",
       "  & <chr> & <dbl> & <dbl> & <dbl>\\\\\n",
       "\\hline\n",
       "\t1 & 2004-01 & 12 & 8 & 15\\\\\n",
       "\t2 & 2004-02 & 12 & 9 & 15\\\\\n",
       "\t3 & 2004-03 & 12 & 9 & 14\\\\\n",
       "\t4 & 2004-04 & 12 & 8 & 14\\\\\n",
       "\t5 & 2004-05 & 11 & 9 & 13\\\\\n",
       "\t6 & 2004-06 &  9 & 7 & 12\\\\\n",
       "\\end{tabular}\n"
      ],
      "text/markdown": [
       "\n",
       "A data.frame: 6 × 4\n",
       "\n",
       "| <!--/--> | Month &lt;chr&gt; | Mozart &lt;dbl&gt; | Beethoven &lt;dbl&gt; | Bach &lt;dbl&gt; |\n",
       "|---|---|---|---|---|\n",
       "| 1 | 2004-01 | 12 | 8 | 15 |\n",
       "| 2 | 2004-02 | 12 | 9 | 15 |\n",
       "| 3 | 2004-03 | 12 | 9 | 14 |\n",
       "| 4 | 2004-04 | 12 | 8 | 14 |\n",
       "| 5 | 2004-05 | 11 | 9 | 13 |\n",
       "| 6 | 2004-06 |  9 | 7 | 12 |\n",
       "\n"
      ],
      "text/plain": [
       "  Month   Mozart Beethoven Bach\n",
       "1 2004-01 12     8         15  \n",
       "2 2004-02 12     9         15  \n",
       "3 2004-03 12     9         14  \n",
       "4 2004-04 12     8         14  \n",
       "5 2004-05 11     9         13  \n",
       "6 2004-06  9     7         12  "
      ]
     },
     "metadata": {},
     "output_type": "display_data"
    }
   ],
   "source": [
    "xlsx_file<- import('../datasets/mbb.xlsx')\n",
    "head(xlsx_file)"
   ]
  }
 ],
 "metadata": {
  "kernelspec": {
   "display_name": "R",
   "language": "R",
   "name": "ir"
  },
  "language_info": {
   "codemirror_mode": "r",
   "file_extension": ".r",
   "mimetype": "text/x-r-source",
   "name": "R",
   "pygments_lexer": "r",
   "version": "4.0.2"
  }
 },
 "nbformat": 4,
 "nbformat_minor": 4
}
