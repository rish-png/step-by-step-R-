{
 "cells": [
  {
   "cell_type": "code",
   "execution_count": 1,
   "metadata": {},
   "outputs": [],
   "source": [
    "library(datasets)"
   ]
  },
  {
   "cell_type": "code",
   "execution_count": 3,
   "metadata": {},
   "outputs": [
    {
     "data": {
      "text/html": [
       "<table>\n",
       "<caption>A data.frame: 6 × 12</caption>\n",
       "<thead>\n",
       "\t<tr><th></th><th scope=col>CONT</th><th scope=col>INTG</th><th scope=col>DMNR</th><th scope=col>DILG</th><th scope=col>CFMG</th><th scope=col>DECI</th><th scope=col>PREP</th><th scope=col>FAMI</th><th scope=col>ORAL</th><th scope=col>WRIT</th><th scope=col>PHYS</th><th scope=col>RTEN</th></tr>\n",
       "\t<tr><th></th><th scope=col>&lt;dbl&gt;</th><th scope=col>&lt;dbl&gt;</th><th scope=col>&lt;dbl&gt;</th><th scope=col>&lt;dbl&gt;</th><th scope=col>&lt;dbl&gt;</th><th scope=col>&lt;dbl&gt;</th><th scope=col>&lt;dbl&gt;</th><th scope=col>&lt;dbl&gt;</th><th scope=col>&lt;dbl&gt;</th><th scope=col>&lt;dbl&gt;</th><th scope=col>&lt;dbl&gt;</th><th scope=col>&lt;dbl&gt;</th></tr>\n",
       "</thead>\n",
       "<tbody>\n",
       "\t<tr><th scope=row>AARONSON,L.H.</th><td>5.7</td><td>7.9</td><td>7.7</td><td>7.3</td><td>7.1</td><td>7.4</td><td>7.1</td><td>7.1</td><td>7.1</td><td>7.0</td><td>8.3</td><td>7.8</td></tr>\n",
       "\t<tr><th scope=row>ALEXANDER,J.M.</th><td>6.8</td><td>8.9</td><td>8.8</td><td>8.5</td><td>7.8</td><td>8.1</td><td>8.0</td><td>8.0</td><td>7.8</td><td>7.9</td><td>8.5</td><td>8.7</td></tr>\n",
       "\t<tr><th scope=row>ARMENTANO,A.J.</th><td>7.2</td><td>8.1</td><td>7.8</td><td>7.8</td><td>7.5</td><td>7.6</td><td>7.5</td><td>7.5</td><td>7.3</td><td>7.4</td><td>7.9</td><td>7.8</td></tr>\n",
       "\t<tr><th scope=row>BERDON,R.I.</th><td>6.8</td><td>8.8</td><td>8.5</td><td>8.8</td><td>8.3</td><td>8.5</td><td>8.7</td><td>8.7</td><td>8.4</td><td>8.5</td><td>8.8</td><td>8.7</td></tr>\n",
       "\t<tr><th scope=row>BRACKEN,J.J.</th><td>7.3</td><td>6.4</td><td>4.3</td><td>6.5</td><td>6.0</td><td>6.2</td><td>5.7</td><td>5.7</td><td>5.1</td><td>5.3</td><td>5.5</td><td>4.8</td></tr>\n",
       "\t<tr><th scope=row>BURNS,E.B.</th><td>6.2</td><td>8.8</td><td>8.7</td><td>8.5</td><td>7.9</td><td>8.0</td><td>8.1</td><td>8.0</td><td>8.0</td><td>8.0</td><td>8.6</td><td>8.6</td></tr>\n",
       "</tbody>\n",
       "</table>\n"
      ],
      "text/latex": [
       "A data.frame: 6 × 12\n",
       "\\begin{tabular}{r|llllllllllll}\n",
       "  & CONT & INTG & DMNR & DILG & CFMG & DECI & PREP & FAMI & ORAL & WRIT & PHYS & RTEN\\\\\n",
       "  & <dbl> & <dbl> & <dbl> & <dbl> & <dbl> & <dbl> & <dbl> & <dbl> & <dbl> & <dbl> & <dbl> & <dbl>\\\\\n",
       "\\hline\n",
       "\tAARONSON,L.H. & 5.7 & 7.9 & 7.7 & 7.3 & 7.1 & 7.4 & 7.1 & 7.1 & 7.1 & 7.0 & 8.3 & 7.8\\\\\n",
       "\tALEXANDER,J.M. & 6.8 & 8.9 & 8.8 & 8.5 & 7.8 & 8.1 & 8.0 & 8.0 & 7.8 & 7.9 & 8.5 & 8.7\\\\\n",
       "\tARMENTANO,A.J. & 7.2 & 8.1 & 7.8 & 7.8 & 7.5 & 7.6 & 7.5 & 7.5 & 7.3 & 7.4 & 7.9 & 7.8\\\\\n",
       "\tBERDON,R.I. & 6.8 & 8.8 & 8.5 & 8.8 & 8.3 & 8.5 & 8.7 & 8.7 & 8.4 & 8.5 & 8.8 & 8.7\\\\\n",
       "\tBRACKEN,J.J. & 7.3 & 6.4 & 4.3 & 6.5 & 6.0 & 6.2 & 5.7 & 5.7 & 5.1 & 5.3 & 5.5 & 4.8\\\\\n",
       "\tBURNS,E.B. & 6.2 & 8.8 & 8.7 & 8.5 & 7.9 & 8.0 & 8.1 & 8.0 & 8.0 & 8.0 & 8.6 & 8.6\\\\\n",
       "\\end{tabular}\n"
      ],
      "text/markdown": [
       "\n",
       "A data.frame: 6 × 12\n",
       "\n",
       "| <!--/--> | CONT &lt;dbl&gt; | INTG &lt;dbl&gt; | DMNR &lt;dbl&gt; | DILG &lt;dbl&gt; | CFMG &lt;dbl&gt; | DECI &lt;dbl&gt; | PREP &lt;dbl&gt; | FAMI &lt;dbl&gt; | ORAL &lt;dbl&gt; | WRIT &lt;dbl&gt; | PHYS &lt;dbl&gt; | RTEN &lt;dbl&gt; |\n",
       "|---|---|---|---|---|---|---|---|---|---|---|---|---|\n",
       "| AARONSON,L.H. | 5.7 | 7.9 | 7.7 | 7.3 | 7.1 | 7.4 | 7.1 | 7.1 | 7.1 | 7.0 | 8.3 | 7.8 |\n",
       "| ALEXANDER,J.M. | 6.8 | 8.9 | 8.8 | 8.5 | 7.8 | 8.1 | 8.0 | 8.0 | 7.8 | 7.9 | 8.5 | 8.7 |\n",
       "| ARMENTANO,A.J. | 7.2 | 8.1 | 7.8 | 7.8 | 7.5 | 7.6 | 7.5 | 7.5 | 7.3 | 7.4 | 7.9 | 7.8 |\n",
       "| BERDON,R.I. | 6.8 | 8.8 | 8.5 | 8.8 | 8.3 | 8.5 | 8.7 | 8.7 | 8.4 | 8.5 | 8.8 | 8.7 |\n",
       "| BRACKEN,J.J. | 7.3 | 6.4 | 4.3 | 6.5 | 6.0 | 6.2 | 5.7 | 5.7 | 5.1 | 5.3 | 5.5 | 4.8 |\n",
       "| BURNS,E.B. | 6.2 | 8.8 | 8.7 | 8.5 | 7.9 | 8.0 | 8.1 | 8.0 | 8.0 | 8.0 | 8.6 | 8.6 |\n",
       "\n"
      ],
      "text/plain": [
       "               CONT INTG DMNR DILG CFMG DECI PREP FAMI ORAL WRIT PHYS RTEN\n",
       "AARONSON,L.H.  5.7  7.9  7.7  7.3  7.1  7.4  7.1  7.1  7.1  7.0  8.3  7.8 \n",
       "ALEXANDER,J.M. 6.8  8.9  8.8  8.5  7.8  8.1  8.0  8.0  7.8  7.9  8.5  8.7 \n",
       "ARMENTANO,A.J. 7.2  8.1  7.8  7.8  7.5  7.6  7.5  7.5  7.3  7.4  7.9  7.8 \n",
       "BERDON,R.I.    6.8  8.8  8.5  8.8  8.3  8.5  8.7  8.7  8.4  8.5  8.8  8.7 \n",
       "BRACKEN,J.J.   7.3  6.4  4.3  6.5  6.0  6.2  5.7  5.7  5.1  5.3  5.5  4.8 \n",
       "BURNS,E.B.     6.2  8.8  8.7  8.5  7.9  8.0  8.1  8.0  8.0  8.0  8.6  8.6 "
      ]
     },
     "metadata": {},
     "output_type": "display_data"
    }
   ],
   "source": [
    "data <- USJudgeRatings\n",
    "head(data)"
   ]
  },
  {
   "cell_type": "code",
   "execution_count": 14,
   "metadata": {},
   "outputs": [],
   "source": [
    "x <- as.matrix(data[1:11])\n",
    "y <- data[, 12]"
   ]
  },
  {
   "cell_type": "code",
   "execution_count": 21,
   "metadata": {},
   "outputs": [],
   "source": [
    "# Linear Regression\n",
    "reg = lm(y ~ x) # lm stands for linear model\n",
    "# `y ~ x` means  predict output y as a function of x"
   ]
  },
  {
   "cell_type": "code",
   "execution_count": 23,
   "metadata": {},
   "outputs": [
    {
     "data": {
      "text/plain": [
       "\n",
       "Call:\n",
       "lm(formula = y ~ x)\n",
       "\n",
       "Coefficients:\n",
       "(Intercept)        xCONT        xINTG        xDMNR        xDILG        xCFMG  \n",
       "   -2.11943      0.01280      0.36484      0.12540      0.06669     -0.19453  \n",
       "      xDECI        xPREP        xFAMI        xORAL        xWRIT        xPHYS  \n",
       "    0.27829     -0.00196     -0.13579      0.54782     -0.06806      0.26881  \n"
      ]
     },
     "metadata": {},
     "output_type": "display_data"
    }
   ],
   "source": [
    "reg"
   ]
  },
  {
   "cell_type": "code",
   "execution_count": 24,
   "metadata": {},
   "outputs": [
    {
     "data": {
      "text/plain": [
       "\n",
       "Call:\n",
       "lm(formula = y ~ x)\n",
       "\n",
       "Residuals:\n",
       "     Min       1Q   Median       3Q      Max \n",
       "-0.22123 -0.06155 -0.01055  0.05045  0.26079 \n",
       "\n",
       "Coefficients:\n",
       "            Estimate Std. Error t value Pr(>|t|)    \n",
       "(Intercept) -2.11943    0.51904  -4.083 0.000290 ***\n",
       "xCONT        0.01280    0.02586   0.495 0.624272    \n",
       "xINTG        0.36484    0.12936   2.820 0.008291 ** \n",
       "xDMNR        0.12540    0.08971   1.398 0.172102    \n",
       "xDILG        0.06669    0.14303   0.466 0.644293    \n",
       "xCFMG       -0.19453    0.14779  -1.316 0.197735    \n",
       "xDECI        0.27829    0.13826   2.013 0.052883 .  \n",
       "xPREP       -0.00196    0.24001  -0.008 0.993536    \n",
       "xFAMI       -0.13579    0.26725  -0.508 0.614972    \n",
       "xORAL        0.54782    0.27725   1.976 0.057121 .  \n",
       "xWRIT       -0.06806    0.31485  -0.216 0.830269    \n",
       "xPHYS        0.26881    0.06213   4.326 0.000146 ***\n",
       "---\n",
       "Signif. codes:  0 ‘***’ 0.001 ‘**’ 0.01 ‘*’ 0.05 ‘.’ 0.1 ‘ ’ 1\n",
       "\n",
       "Residual standard error: 0.1174 on 31 degrees of freedom\n",
       "Multiple R-squared:  0.9916,\tAdjusted R-squared:  0.9886 \n",
       "F-statistic: 332.9 on 11 and 31 DF,  p-value: < 2.2e-16\n"
      ]
     },
     "metadata": {},
     "output_type": "display_data"
    }
   ],
   "source": [
    "summary(reg)"
   ]
  },
  {
   "cell_type": "code",
   "execution_count": 25,
   "metadata": {},
   "outputs": [
    {
     "data": {
      "text/html": [
       "<table>\n",
       "<caption>A anova: 2 × 5</caption>\n",
       "<thead>\n",
       "\t<tr><th></th><th scope=col>Df</th><th scope=col>Sum Sq</th><th scope=col>Mean Sq</th><th scope=col>F value</th><th scope=col>Pr(&gt;F)</th></tr>\n",
       "\t<tr><th></th><th scope=col>&lt;int&gt;</th><th scope=col>&lt;dbl&gt;</th><th scope=col>&lt;dbl&gt;</th><th scope=col>&lt;dbl&gt;</th><th scope=col>&lt;dbl&gt;</th></tr>\n",
       "</thead>\n",
       "<tbody>\n",
       "\t<tr><th scope=row>x</th><td>11</td><td>50.4823548</td><td>4.5893050</td><td>332.8597</td><td>5.745717e-29</td></tr>\n",
       "\t<tr><th scope=row>Residuals</th><td>31</td><td> 0.4274127</td><td>0.0137875</td><td>      NA</td><td>          NA</td></tr>\n",
       "</tbody>\n",
       "</table>\n"
      ],
      "text/latex": [
       "A anova: 2 × 5\n",
       "\\begin{tabular}{r|lllll}\n",
       "  & Df & Sum Sq & Mean Sq & F value & Pr(>F)\\\\\n",
       "  & <int> & <dbl> & <dbl> & <dbl> & <dbl>\\\\\n",
       "\\hline\n",
       "\tx & 11 & 50.4823548 & 4.5893050 & 332.8597 & 5.745717e-29\\\\\n",
       "\tResiduals & 31 &  0.4274127 & 0.0137875 &       NA &           NA\\\\\n",
       "\\end{tabular}\n"
      ],
      "text/markdown": [
       "\n",
       "A anova: 2 × 5\n",
       "\n",
       "| <!--/--> | Df &lt;int&gt; | Sum Sq &lt;dbl&gt; | Mean Sq &lt;dbl&gt; | F value &lt;dbl&gt; | Pr(&gt;F) &lt;dbl&gt; |\n",
       "|---|---|---|---|---|---|\n",
       "| x | 11 | 50.4823548 | 4.5893050 | 332.8597 | 5.745717e-29 |\n",
       "| Residuals | 31 |  0.4274127 | 0.0137875 |       NA |           NA |\n",
       "\n"
      ],
      "text/plain": [
       "          Df Sum Sq     Mean Sq   F value  Pr(>F)      \n",
       "x         11 50.4823548 4.5893050 332.8597 5.745717e-29\n",
       "Residuals 31  0.4274127 0.0137875       NA           NA"
      ]
     },
     "metadata": {},
     "output_type": "display_data"
    }
   ],
   "source": [
    "anova(reg)"
   ]
  },
  {
   "cell_type": "code",
   "execution_count": 26,
   "metadata": {},
   "outputs": [
    {
     "data": {
      "text/html": [
       "<style>\n",
       ".dl-inline {width: auto; margin:0; padding: 0}\n",
       ".dl-inline>dt, .dl-inline>dd {float: none; width: auto; display: inline-block}\n",
       ".dl-inline>dt::after {content: \":\\0020\"; padding-right: .5ex}\n",
       ".dl-inline>dt:not(:first-of-type) {padding-left: .5ex}\n",
       "</style><dl class=dl-inline><dt>(Intercept)</dt><dd>-2.11942968179329</dd><dt>xCONT</dt><dd>0.0127963773918443</dd><dt>xINTG</dt><dd>0.364840272014897</dd><dt>xDMNR</dt><dd>0.125399137854698</dd><dt>xDILG</dt><dd>0.0666909760662325</dd><dt>xCFMG</dt><dd>-0.194527026617026</dd><dt>xDECI</dt><dd>0.278292931605456</dd><dt>xPREP</dt><dd>-0.00196011133376661</dd><dt>xFAMI</dt><dd>-0.135790972195284</dd><dt>xORAL</dt><dd>0.547817679832873</dd><dt>xWRIT</dt><dd>-0.0680615953914737</dd><dt>xPHYS</dt><dd>0.268811919161934</dd></dl>\n"
      ],
      "text/latex": [
       "\\begin{description*}\n",
       "\\item[(Intercept)] -2.11942968179329\n",
       "\\item[xCONT] 0.0127963773918443\n",
       "\\item[xINTG] 0.364840272014897\n",
       "\\item[xDMNR] 0.125399137854698\n",
       "\\item[xDILG] 0.0666909760662325\n",
       "\\item[xCFMG] -0.194527026617026\n",
       "\\item[xDECI] 0.278292931605456\n",
       "\\item[xPREP] -0.00196011133376661\n",
       "\\item[xFAMI] -0.135790972195284\n",
       "\\item[xORAL] 0.547817679832873\n",
       "\\item[xWRIT] -0.0680615953914737\n",
       "\\item[xPHYS] 0.268811919161934\n",
       "\\end{description*}\n"
      ],
      "text/markdown": [
       "(Intercept)\n",
       ":   -2.11942968179329xCONT\n",
       ":   0.0127963773918443xINTG\n",
       ":   0.364840272014897xDMNR\n",
       ":   0.125399137854698xDILG\n",
       ":   0.0666909760662325xCFMG\n",
       ":   -0.194527026617026xDECI\n",
       ":   0.278292931605456xPREP\n",
       ":   -0.00196011133376661xFAMI\n",
       ":   -0.135790972195284xORAL\n",
       ":   0.547817679832873xWRIT\n",
       ":   -0.0680615953914737xPHYS\n",
       ":   0.268811919161934\n",
       "\n"
      ],
      "text/plain": [
       " (Intercept)        xCONT        xINTG        xDMNR        xDILG        xCFMG \n",
       "-2.119429682  0.012796377  0.364840272  0.125399138  0.066690976 -0.194527027 \n",
       "       xDECI        xPREP        xFAMI        xORAL        xWRIT        xPHYS \n",
       " 0.278292932 -0.001960111 -0.135790972  0.547817680 -0.068061595  0.268811919 "
      ]
     },
     "metadata": {},
     "output_type": "display_data"
    }
   ],
   "source": [
    "coef(reg)"
   ]
  },
  {
   "cell_type": "code",
   "execution_count": 27,
   "metadata": {},
   "outputs": [
    {
     "data": {
      "text/html": [
       "<table>\n",
       "<caption>A matrix: 12 × 2 of type dbl</caption>\n",
       "<thead>\n",
       "\t<tr><th></th><th scope=col>2.5 %</th><th scope=col>97.5 %</th></tr>\n",
       "</thead>\n",
       "<tbody>\n",
       "\t<tr><th scope=row>(Intercept)</th><td>-3.178010347</td><td>-1.06084902</td></tr>\n",
       "\t<tr><th scope=row>xCONT</th><td>-0.039955335</td><td> 0.06554809</td></tr>\n",
       "\t<tr><th scope=row>xINTG</th><td> 0.101011150</td><td> 0.62866939</td></tr>\n",
       "\t<tr><th scope=row>xDMNR</th><td>-0.057571651</td><td> 0.30836993</td></tr>\n",
       "\t<tr><th scope=row>xDILG</th><td>-0.225031708</td><td> 0.35841366</td></tr>\n",
       "\t<tr><th scope=row>xCFMG</th><td>-0.495940888</td><td> 0.10688683</td></tr>\n",
       "\t<tr><th scope=row>xDECI</th><td>-0.003683181</td><td> 0.56026904</td></tr>\n",
       "\t<tr><th scope=row>xPREP</th><td>-0.491456059</td><td> 0.48753584</td></tr>\n",
       "\t<tr><th scope=row>xFAMI</th><td>-0.680844080</td><td> 0.40926214</td></tr>\n",
       "\t<tr><th scope=row>xORAL</th><td>-0.017628284</td><td> 1.11326364</td></tr>\n",
       "\t<tr><th scope=row>xWRIT</th><td>-0.710196975</td><td> 0.57407378</td></tr>\n",
       "\t<tr><th scope=row>xPHYS</th><td> 0.142088434</td><td> 0.39553540</td></tr>\n",
       "</tbody>\n",
       "</table>\n"
      ],
      "text/latex": [
       "A matrix: 12 × 2 of type dbl\n",
       "\\begin{tabular}{r|ll}\n",
       "  & 2.5 \\% & 97.5 \\%\\\\\n",
       "\\hline\n",
       "\t(Intercept) & -3.178010347 & -1.06084902\\\\\n",
       "\txCONT & -0.039955335 &  0.06554809\\\\\n",
       "\txINTG &  0.101011150 &  0.62866939\\\\\n",
       "\txDMNR & -0.057571651 &  0.30836993\\\\\n",
       "\txDILG & -0.225031708 &  0.35841366\\\\\n",
       "\txCFMG & -0.495940888 &  0.10688683\\\\\n",
       "\txDECI & -0.003683181 &  0.56026904\\\\\n",
       "\txPREP & -0.491456059 &  0.48753584\\\\\n",
       "\txFAMI & -0.680844080 &  0.40926214\\\\\n",
       "\txORAL & -0.017628284 &  1.11326364\\\\\n",
       "\txWRIT & -0.710196975 &  0.57407378\\\\\n",
       "\txPHYS &  0.142088434 &  0.39553540\\\\\n",
       "\\end{tabular}\n"
      ],
      "text/markdown": [
       "\n",
       "A matrix: 12 × 2 of type dbl\n",
       "\n",
       "| <!--/--> | 2.5 % | 97.5 % |\n",
       "|---|---|---|\n",
       "| (Intercept) | -3.178010347 | -1.06084902 |\n",
       "| xCONT | -0.039955335 |  0.06554809 |\n",
       "| xINTG |  0.101011150 |  0.62866939 |\n",
       "| xDMNR | -0.057571651 |  0.30836993 |\n",
       "| xDILG | -0.225031708 |  0.35841366 |\n",
       "| xCFMG | -0.495940888 |  0.10688683 |\n",
       "| xDECI | -0.003683181 |  0.56026904 |\n",
       "| xPREP | -0.491456059 |  0.48753584 |\n",
       "| xFAMI | -0.680844080 |  0.40926214 |\n",
       "| xORAL | -0.017628284 |  1.11326364 |\n",
       "| xWRIT | -0.710196975 |  0.57407378 |\n",
       "| xPHYS |  0.142088434 |  0.39553540 |\n",
       "\n"
      ],
      "text/plain": [
       "            2.5 %        97.5 %     \n",
       "(Intercept) -3.178010347 -1.06084902\n",
       "xCONT       -0.039955335  0.06554809\n",
       "xINTG        0.101011150  0.62866939\n",
       "xDMNR       -0.057571651  0.30836993\n",
       "xDILG       -0.225031708  0.35841366\n",
       "xCFMG       -0.495940888  0.10688683\n",
       "xDECI       -0.003683181  0.56026904\n",
       "xPREP       -0.491456059  0.48753584\n",
       "xFAMI       -0.680844080  0.40926214\n",
       "xORAL       -0.017628284  1.11326364\n",
       "xWRIT       -0.710196975  0.57407378\n",
       "xPHYS        0.142088434  0.39553540"
      ]
     },
     "metadata": {},
     "output_type": "display_data"
    }
   ],
   "source": [
    "confint(reg)   # confidence intervals"
   ]
  },
  {
   "cell_type": "code",
   "execution_count": 32,
   "metadata": {},
   "outputs": [
    {
     "data": {
      "text/html": [
       "<style>\n",
       ".dl-inline {width: auto; margin:0; padding: 0}\n",
       ".dl-inline>dt, .dl-inline>dd {float: none; width: auto; display: inline-block}\n",
       ".dl-inline>dt::after {content: \":\\0020\"; padding-right: .5ex}\n",
       ".dl-inline>dt:not(:first-of-type) {padding-left: .5ex}\n",
       "</style><dl class=dl-inline><dt>1</dt><dd>0.167428295017039</dd><dt>2</dt><dd>0.159904302772648</dd><dt>3</dt><dd>0.131818800299846</dd><dt>4</dt><dd>-0.0721243487660778</dd><dt>5</dt><dd>-0.166351358367794</dd><dt>6</dt><dd>0.0344455088067191</dd><dt>7</dt><dd>-0.122867277430026</dd><dt>8</dt><dd>-0.0359845065029777</dd><dt>9</dt><dd>-0.0414643392723512</dd><dt>10</dt><dd>0.105484916712862</dd><dt>11</dt><dd>0.0315661299294977</dd><dt>12</dt><dd>0.0279048489769715</dd><dt>13</dt><dd>-0.00663028435204474</dd><dt>14</dt><dd>0.121511625754102</dd><dt>15</dt><dd>-0.0707169454541448</dd><dt>16</dt><dd>0.0963751277156319</dd><dt>17</dt><dd>0.0966781230775005</dd><dt>18</dt><dd>0.0587324089912395</dd><dt>19</dt><dd>0.26079143039293</dd><dt>20</dt><dd>-0.0613783951036366</dd><dt>21</dt><dd>-0.0105476009574091</dd><dt>22</dt><dd>-0.0926140135370356</dd><dt>23</dt><dd>-0.096402214865513</dd><dt>24</dt><dd>-0.0479617599866198</dd><dt>25</dt><dd>0.0279999236295553</dd><dt>26</dt><dd>-0.0633662510554083</dd><dt>27</dt><dd>-0.0142423076474057</dd><dt>28</dt><dd>-0.191822695590152</dd><dt>29</dt><dd>0.0253091921664982</dd><dt>30</dt><dd>-0.0179725261543001</dd><dt>31</dt><dd>-0.0144131915072442</dd><dt>32</dt><dd>0.114510447001219</dd><dt>33</dt><dd>-0.0617147924758264</dd><dt>34</dt><dd>-0.0608608819965288</dd><dt>35</dt><dd>0.0421019215183941</dd><dt>36</dt><dd>0.147460609559764</dd><dt>37</dt><dd>0.0421784996965393</dd><dt>38</dt><dd>-0.221232591120357</dd><dt>39</dt><dd>-0.0375263259888015</dd><dt>40</dt><dd>-0.00075377992952335</dd><dt>41</dt><dd>-0.00242778449423757</dd><dt>42</dt><dd>-0.120465634669106</dd><dt>43</dt><dd>-0.0603603047944362</dd></dl>\n"
      ],
      "text/latex": [
       "\\begin{description*}\n",
       "\\item[1] 0.167428295017039\n",
       "\\item[2] 0.159904302772648\n",
       "\\item[3] 0.131818800299846\n",
       "\\item[4] -0.0721243487660778\n",
       "\\item[5] -0.166351358367794\n",
       "\\item[6] 0.0344455088067191\n",
       "\\item[7] -0.122867277430026\n",
       "\\item[8] -0.0359845065029777\n",
       "\\item[9] -0.0414643392723512\n",
       "\\item[10] 0.105484916712862\n",
       "\\item[11] 0.0315661299294977\n",
       "\\item[12] 0.0279048489769715\n",
       "\\item[13] -0.00663028435204474\n",
       "\\item[14] 0.121511625754102\n",
       "\\item[15] -0.0707169454541448\n",
       "\\item[16] 0.0963751277156319\n",
       "\\item[17] 0.0966781230775005\n",
       "\\item[18] 0.0587324089912395\n",
       "\\item[19] 0.26079143039293\n",
       "\\item[20] -0.0613783951036366\n",
       "\\item[21] -0.0105476009574091\n",
       "\\item[22] -0.0926140135370356\n",
       "\\item[23] -0.096402214865513\n",
       "\\item[24] -0.0479617599866198\n",
       "\\item[25] 0.0279999236295553\n",
       "\\item[26] -0.0633662510554083\n",
       "\\item[27] -0.0142423076474057\n",
       "\\item[28] -0.191822695590152\n",
       "\\item[29] 0.0253091921664982\n",
       "\\item[30] -0.0179725261543001\n",
       "\\item[31] -0.0144131915072442\n",
       "\\item[32] 0.114510447001219\n",
       "\\item[33] -0.0617147924758264\n",
       "\\item[34] -0.0608608819965288\n",
       "\\item[35] 0.0421019215183941\n",
       "\\item[36] 0.147460609559764\n",
       "\\item[37] 0.0421784996965393\n",
       "\\item[38] -0.221232591120357\n",
       "\\item[39] -0.0375263259888015\n",
       "\\item[40] -0.00075377992952335\n",
       "\\item[41] -0.00242778449423757\n",
       "\\item[42] -0.120465634669106\n",
       "\\item[43] -0.0603603047944362\n",
       "\\end{description*}\n"
      ],
      "text/markdown": [
       "1\n",
       ":   0.1674282950170392\n",
       ":   0.1599043027726483\n",
       ":   0.1318188002998464\n",
       ":   -0.07212434876607785\n",
       ":   -0.1663513583677946\n",
       ":   0.03444550880671917\n",
       ":   -0.1228672774300268\n",
       ":   -0.03598450650297779\n",
       ":   -0.041464339272351210\n",
       ":   0.10548491671286211\n",
       ":   0.031566129929497712\n",
       ":   0.027904848976971513\n",
       ":   -0.0066302843520447414\n",
       ":   0.12151162575410215\n",
       ":   -0.070716945454144816\n",
       ":   0.096375127715631917\n",
       ":   0.096678123077500518\n",
       ":   0.058732408991239519\n",
       ":   0.2607914303929320\n",
       ":   -0.061378395103636621\n",
       ":   -0.010547600957409122\n",
       ":   -0.092614013537035623\n",
       ":   -0.09640221486551324\n",
       ":   -0.047961759986619825\n",
       ":   0.027999923629555326\n",
       ":   -0.063366251055408327\n",
       ":   -0.014242307647405728\n",
       ":   -0.19182269559015229\n",
       ":   0.025309192166498230\n",
       ":   -0.017972526154300131\n",
       ":   -0.014413191507244232\n",
       ":   0.11451044700121933\n",
       ":   -0.061714792475826434\n",
       ":   -0.060860881996528835\n",
       ":   0.042101921518394136\n",
       ":   0.14746060955976437\n",
       ":   0.042178499696539338\n",
       ":   -0.22123259112035739\n",
       ":   -0.037526325988801540\n",
       ":   -0.0007537799295233541\n",
       ":   -0.0024277844942375742\n",
       ":   -0.12046563466910643\n",
       ":   -0.0603603047944362\n",
       "\n"
      ],
      "text/plain": [
       "            1             2             3             4             5 \n",
       " 0.1674282950  0.1599043028  0.1318188003 -0.0721243488 -0.1663513584 \n",
       "            6             7             8             9            10 \n",
       " 0.0344455088 -0.1228672774 -0.0359845065 -0.0414643393  0.1054849167 \n",
       "           11            12            13            14            15 \n",
       " 0.0315661299  0.0279048490 -0.0066302844  0.1215116258 -0.0707169455 \n",
       "           16            17            18            19            20 \n",
       " 0.0963751277  0.0966781231  0.0587324090  0.2607914304 -0.0613783951 \n",
       "           21            22            23            24            25 \n",
       "-0.0105476010 -0.0926140135 -0.0964022149 -0.0479617600  0.0279999236 \n",
       "           26            27            28            29            30 \n",
       "-0.0633662511 -0.0142423076 -0.1918226956  0.0253091922 -0.0179725262 \n",
       "           31            32            33            34            35 \n",
       "-0.0144131915  0.1145104470 -0.0617147925 -0.0608608820  0.0421019215 \n",
       "           36            37            38            39            40 \n",
       " 0.1474606096  0.0421784997 -0.2212325911 -0.0375263260 -0.0007537799 \n",
       "           41            42            43 \n",
       "-0.0024277845 -0.1204656347 -0.0603603048 "
      ]
     },
     "metadata": {},
     "output_type": "display_data"
    }
   ],
   "source": [
    "residuals(reg) # residuals case by case "
   ]
  },
  {
   "cell_type": "code",
   "execution_count": 31,
   "metadata": {},
   "outputs": [
    {
     "data": {
      "image/png": "[encoded data removed]",
      "text/plain": [
       "Plot with title “Histogram of resid(reg)”"
      ]
     },
     "metadata": {
      "image/png": {
       "height": 420,
       "width": 420
      }
     },
     "output_type": "display_data"
    }
   ],
   "source": [
    "hist(resid(reg)) "
   ]
  },
  {
   "cell_type": "code",
   "execution_count": null,
   "metadata": {},
   "outputs": [],
   "source": []
  }
 ],
 "metadata": {
  "kernelspec": {
   "display_name": "R",
   "language": "R",
   "name": "ir"
  },
  "language_info": {
   "codemirror_mode": "r",
   "file_extension": ".r",
   "mimetype": "text/x-r-source",
   "name": "R",
   "pygments_lexer": "r",
   "version": "4.0.2"
  }
 },
 "nbformat": 4,
 "nbformat_minor": 4
}
