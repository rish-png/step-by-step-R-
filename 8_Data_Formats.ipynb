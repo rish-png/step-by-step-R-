{
 "cells": [
  {
   "cell_type": "markdown",
   "metadata": {},
   "source": [
    "# Data Formats\n",
    "Data formats in R can be divided in to two:\n",
    " 1. Datatypes - `in what type data is stored?`\n",
    " 2. Datastructures - `in what form(structure) data is stored?`"
   ]
  },
  {
   "cell_type": "markdown",
   "metadata": {},
   "source": [
    "### Datatypes:\n",
    "\n",
    "    1. numeric (integer, single & double)\n",
    "    2. character\n",
    "    3. logical (True/False)\n",
    "    3. complex\n",
    "    4. raw"
   ]
  },
  {
   "cell_type": "code",
   "execution_count": 1,
   "metadata": {},
   "outputs": [
    {
     "data": {
      "text/html": [
       "'num1 :: 100'"
      ],
      "text/latex": [
       "'num1 :: 100'"
      ],
      "text/markdown": [
       "'num1 :: 100'"
      ],
      "text/plain": [
       "[1] \"num1 :: 100\""
      ]
     },
     "metadata": {},
     "output_type": "display_data"
    },
    {
     "data": {
      "text/html": [
       "'double'"
      ],
      "text/latex": [
       "'double'"
      ],
      "text/markdown": [
       "'double'"
      ],
      "text/plain": [
       "[1] \"double\""
      ]
     },
     "metadata": {},
     "output_type": "display_data"
    }
   ],
   "source": [
    "# numeric\n",
    "num1 <- 100\n",
    "sprintf('num1 :: %d', num1)  # a fancy variant of print for formatting\n",
    "typeof(num1)"
   ]
  },
  {
   "cell_type": "markdown",
   "metadata": {},
   "source": [
    "double precision is the default for numeric in R"
   ]
  },
  {
   "cell_type": "code",
   "execution_count": 2,
   "metadata": {},
   "outputs": [
    {
     "data": {
      "text/html": [
       "'num2 :: 1.050000'"
      ],
      "text/latex": [
       "'num2 :: 1.050000'"
      ],
      "text/markdown": [
       "'num2 :: 1.050000'"
      ],
      "text/plain": [
       "[1] \"num2 :: 1.050000\""
      ]
     },
     "metadata": {},
     "output_type": "display_data"
    },
    {
     "data": {
      "text/html": [
       "'double'"
      ],
      "text/latex": [
       "'double'"
      ],
      "text/markdown": [
       "'double'"
      ],
      "text/plain": [
       "[1] \"double\""
      ]
     },
     "metadata": {},
     "output_type": "display_data"
    }
   ],
   "source": [
    "# numeric (decimal)\n",
    "num2 <- 1.05\n",
    "sprintf('num2 :: %f', num2)\n",
    "typeof(num2)"
   ]
  },
  {
   "cell_type": "code",
   "execution_count": 3,
   "metadata": {},
   "outputs": [
    {
     "data": {
      "text/html": [
       "'Character :: A'"
      ],
      "text/latex": [
       "'Character :: A'"
      ],
      "text/markdown": [
       "'Character :: A'"
      ],
      "text/plain": [
       "[1] \"Character :: A\""
      ]
     },
     "metadata": {},
     "output_type": "display_data"
    },
    {
     "data": {
      "text/html": [
       "'character'"
      ],
      "text/latex": [
       "'character'"
      ],
      "text/markdown": [
       "'character'"
      ],
      "text/plain": [
       "[1] \"character\""
      ]
     },
     "metadata": {},
     "output_type": "display_data"
    }
   ],
   "source": [
    "# character\n",
    "chr <- 'A'\n",
    "sprintf('Character :: %s', chr)\n",
    "typeof(chr)"
   ]
  },
  {
   "cell_type": "code",
   "execution_count": 4,
   "metadata": {},
   "outputs": [
    {
     "data": {
      "text/html": [
       "'Character :: Apple'"
      ],
      "text/latex": [
       "'Character :: Apple'"
      ],
      "text/markdown": [
       "'Character :: Apple'"
      ],
      "text/plain": [
       "[1] \"Character :: Apple\""
      ]
     },
     "metadata": {},
     "output_type": "display_data"
    },
    {
     "data": {
      "text/html": [
       "'character'"
      ],
      "text/latex": [
       "'character'"
      ],
      "text/markdown": [
       "'character'"
      ],
      "text/plain": [
       "[1] \"character\""
      ]
     },
     "metadata": {},
     "output_type": "display_data"
    }
   ],
   "source": [
    "# String\n",
    "str <- 'Apple'\n",
    "sprintf('Character :: %s', str)\n",
    "typeof(str)"
   ]
  },
  {
   "cell_type": "markdown",
   "metadata": {},
   "source": [
    "Strings are not consider differently they are consider under character only."
   ]
  },
  {
   "cell_type": "code",
   "execution_count": 5,
   "metadata": {},
   "outputs": [
    {
     "name": "stdout",
     "output_type": "stream",
     "text": [
      "[1] TRUE\n"
     ]
    },
    {
     "data": {
      "text/html": [
       "'logical'"
      ],
      "text/latex": [
       "'logical'"
      ],
      "text/markdown": [
       "'logical'"
      ],
      "text/plain": [
       "[1] \"logical\""
      ]
     },
     "metadata": {},
     "output_type": "display_data"
    }
   ],
   "source": [
    "# logical\n",
    "log <- TRUE # Also we can use T for TRUE \n",
    "print(log)\n",
    "typeof(log)"
   ]
  },
  {
   "cell_type": "code",
   "execution_count": 6,
   "metadata": {},
   "outputs": [
    {
     "name": "stdout",
     "output_type": "stream",
     "text": [
      "[1] 1+2i\n"
     ]
    },
    {
     "data": {
      "text/html": [
       "'complex'"
      ],
      "text/latex": [
       "'complex'"
      ],
      "text/markdown": [
       "'complex'"
      ],
      "text/plain": [
       "[1] \"complex\""
      ]
     },
     "metadata": {},
     "output_type": "display_data"
    }
   ],
   "source": [
    "# Complex\n",
    "z <- 1 + 2i \n",
    "print(z)\n",
    "typeof(z)"
   ]
  },
  {
   "cell_type": "code",
   "execution_count": 7,
   "metadata": {},
   "outputs": [
    {
     "name": "stdout",
     "output_type": "stream",
     "text": [
      "[1] 00 00\n"
     ]
    },
    {
     "data": {
      "text/html": [
       "'raw'"
      ],
      "text/latex": [
       "'raw'"
      ],
      "text/markdown": [
       "'raw'"
      ],
      "text/plain": [
       "[1] \"raw\""
      ]
     },
     "metadata": {},
     "output_type": "display_data"
    }
   ],
   "source": [
    "# raw\n",
    "rw <- raw(2)\n",
    "print(rw)\n",
    "typeof(rw)"
   ]
  },
  {
   "cell_type": "markdown",
   "metadata": {},
   "source": [
    "## Datastructures:\n",
    "Datastrucure says in which form your data would be saved in memory.\n",
    "\n",
    "Types are:\n",
    "\n",
    "1. Vector - `Homogeneous 1 dimenional array`\n",
    "2. Matrix/Array - Homogenous; `In R 2D array is called matrix`; `And 3 or more dimentional arrays are refered as arrays`\n",
    "3. Dataframe - `Heterogenous collection of same dimentional vectors`\n",
    "4. List - `Heterogenous collection of any datatype or datastructure`"
   ]
  },
  {
   "cell_type": "code",
   "execution_count": 8,
   "metadata": {},
   "outputs": [
    {
     "name": "stdout",
     "output_type": "stream",
     "text": [
      "[1] 1 2 5 7 9\n"
     ]
    },
    {
     "data": {
      "text/html": [
       "TRUE"
      ],
      "text/latex": [
       "TRUE"
      ],
      "text/markdown": [
       "TRUE"
      ],
      "text/plain": [
       "[1] TRUE"
      ]
     },
     "metadata": {},
     "output_type": "display_data"
    }
   ],
   "source": [
    "# vector (1D)\n",
    "v1 <- c(1,2,5,7,9) # C stands for concatenation i.e; these values should be considered as one.\n",
    "print(v1)\n",
    "is.vector(v1)"
   ]
  },
  {
   "cell_type": "code",
   "execution_count": 9,
   "metadata": {},
   "outputs": [
    {
     "name": "stdout",
     "output_type": "stream",
     "text": [
      "     [,1] [,2] [,3]\n",
      "[1,]    1    3    5\n",
      "[2,]    2    4    6\n"
     ]
    },
    {
     "data": {
      "text/html": [
       "TRUE"
      ],
      "text/latex": [
       "TRUE"
      ],
      "text/markdown": [
       "TRUE"
      ],
      "text/plain": [
       "[1] TRUE"
      ]
     },
     "metadata": {},
     "output_type": "display_data"
    }
   ],
   "source": [
    "# matrix (2D)\n",
    "m1 <- matrix(c(1,2,3,4,5,6), nrow=2)\n",
    "print(m1)\n",
    "is.matrix(m1)"
   ]
  },
  {
   "cell_type": "code",
   "execution_count": 10,
   "metadata": {},
   "outputs": [
    {
     "name": "stdout",
     "output_type": "stream",
     "text": [
      "[1] 1 2 3 4 5\n"
     ]
    }
   ],
   "source": [
    "# This line is similar to range(1,6) in `python`\n",
    "print(c(1:5))"
   ]
  },
  {
   "cell_type": "code",
   "execution_count": 11,
   "metadata": {},
   "outputs": [
    {
     "name": "stdout",
     "output_type": "stream",
     "text": [
      ", , 1\n",
      "\n",
      "     [,1] [,2] [,3]\n",
      "[1,]    1    4    7\n",
      "[2,]    2    5    8\n",
      "[3,]    3    6    9\n",
      "\n",
      ", , 2\n",
      "\n",
      "     [,1] [,2] [,3]\n",
      "[1,]   10   13   16\n",
      "[2,]   11   14   17\n",
      "[3,]   12   15   18\n",
      "\n",
      ", , 3\n",
      "\n",
      "     [,1] [,2] [,3]\n",
      "[1,]   19   22   25\n",
      "[2,]   20   23   26\n",
      "[3,]   21   24   27\n",
      "\n"
     ]
    },
    {
     "data": {
      "text/html": [
       "TRUE"
      ],
      "text/latex": [
       "TRUE"
      ],
      "text/markdown": [
       "TRUE"
      ],
      "text/plain": [
       "[1] TRUE"
      ]
     },
     "metadata": {},
     "output_type": "display_data"
    }
   ],
   "source": [
    "# Arrays (3D)\n",
    "arr1 <- array(c(1:27), dim=c(3,3,3)) # dim stands for dimension\n",
    "print(arr1)\n",
    "is.array(arr1)"
   ]
  },
  {
   "cell_type": "code",
   "execution_count": 12,
   "metadata": {},
   "outputs": [
    {
     "name": "stdout",
     "output_type": "stream",
     "text": [
      "  v1 v2    v3\n",
      "1  1  A  TRUE\n",
      "2  2  B FALSE\n",
      "3  3  C  TRUE\n"
     ]
    },
    {
     "data": {
      "text/html": [
       "TRUE"
      ],
      "text/latex": [
       "TRUE"
      ],
      "text/markdown": [
       "TRUE"
      ],
      "text/plain": [
       "[1] TRUE"
      ]
     },
     "metadata": {},
     "output_type": "display_data"
    }
   ],
   "source": [
    "# DataFrame\n",
    "v1 <- c(1,2,3)\n",
    "v2 <- c('A','B','C')\n",
    "v3 <- c(T, F, T)\n",
    "\n",
    "dfa <- as.data.frame(cbind(v1, v2, v3))\n",
    "print(dfa)\n",
    "is.data.frame(dfa)"
   ]
  },
  {
   "cell_type": "code",
   "execution_count": 13,
   "metadata": {},
   "outputs": [
    {
     "name": "stdout",
     "output_type": "stream",
     "text": [
      "[1] \"List 1\"\n",
      "[[1]]\n",
      "[1] \"a\" \"A\"\n",
      "\n",
      "[[2]]\n",
      "[1] \"b\" \"B\"\n",
      "\n",
      "[1] \"List 2\"\n",
      "[[1]]\n",
      "[1] 1 2 3\n",
      "\n",
      "[[2]]\n",
      "[[2]][[1]]\n",
      "[1] \"a\" \"A\"\n",
      "\n",
      "[[2]][[2]]\n",
      "[1] \"b\" \"B\"\n",
      "\n",
      "\n"
     ]
    },
    {
     "data": {
      "text/html": [
       "TRUE"
      ],
      "text/latex": [
       "TRUE"
      ],
      "text/markdown": [
       "TRUE"
      ],
      "text/plain": [
       "[1] TRUE"
      ]
     },
     "metadata": {},
     "output_type": "display_data"
    }
   ],
   "source": [
    "# list\n",
    "vA <- c('a','A')\n",
    "vB <- c('b', 'B')\n",
    "vNum <- c(1,2,3)\n",
    "\n",
    "l1 <- list(vA, vB)\n",
    "print('List 1')\n",
    "print(l1)\n",
    "\n",
    "l2 <- list(vNum, l1)\n",
    "print('List 2')\n",
    "print((l2))\n",
    "\n",
    "is.list(l2)"
   ]
  },
  {
   "cell_type": "markdown",
   "metadata": {},
   "source": [
    "## Coercion\n",
    ">changing of datatype"
   ]
  },
  {
   "cell_type": "code",
   "execution_count": 14,
   "metadata": {},
   "outputs": [
    {
     "name": "stdout",
     "output_type": "stream",
     "text": [
      "[1] \"1\"    \"A\"    \"TRUE\"\n"
     ]
    },
    {
     "data": {
      "text/html": [
       "'character'"
      ],
      "text/latex": [
       "'character'"
      ],
      "text/markdown": [
       "'character'"
      ],
      "text/plain": [
       "[1] \"character\""
      ]
     },
     "metadata": {},
     "output_type": "display_data"
    }
   ],
   "source": [
    "coerc1 <- c(1, \"A\", TRUE) # values to converted(casted) to least restrictive datatype\n",
    "print(coerc1)\n",
    "typeof(coerc1) # here character is most general type"
   ]
  },
  {
   "cell_type": "code",
   "execution_count": 15,
   "metadata": {},
   "outputs": [
    {
     "name": "stdout",
     "output_type": "stream",
     "text": [
      "[1] \"double\"\n",
      "[1] \"integer\"\n"
     ]
    }
   ],
   "source": [
    "# remeber R's default type for numeric is double precision\n",
    "numb <- 15\n",
    "print(typeof(numb))\n",
    "\n",
    "numb <- as.integer(numb)\n",
    "print(typeof(numb))"
   ]
  },
  {
   "cell_type": "code",
   "execution_count": 16,
   "metadata": {},
   "outputs": [
    {
     "name": "stdout",
     "output_type": "stream",
     "text": [
      "[1] \"1\" \"2\" \"3\"\n",
      "[1] \"character\"\n",
      "[1] 1 2 3\n",
      "[1] \"integer\"\n"
     ]
    }
   ],
   "source": [
    "charVec <- c(\"1\", \"2\", \"3\")\n",
    "print(charVec)\n",
    "print(typeof(charVec))\n",
    "\n",
    "\n",
    "charVec <- as.integer(charVec)\n",
    "print(charVec)\n",
    "print(typeof(charVec))"
   ]
  },
  {
   "cell_type": "code",
   "execution_count": 17,
   "metadata": {},
   "outputs": [
    {
     "name": "stdout",
     "output_type": "stream",
     "text": [
      "     [,1] [,2] [,3]\n",
      "[1,]    1    4    7\n",
      "[2,]    2    5    8\n",
      "[3,]    3    6    9\n",
      "[1] TRUE\n",
      "  V1 V2 V3\n",
      "1  1  4  7\n",
      "2  2  5  8\n",
      "3  3  6  9\n",
      "[1] TRUE\n"
     ]
    }
   ],
   "source": [
    "mat <- matrix(c(1:9), nrow=3)\n",
    "print(mat)\n",
    "print(is.matrix(mat))\n",
    "\n",
    "df <- as.data.frame(mat)\n",
    "print(df)\n",
    "print(is.data.frame(df))"
   ]
  }
 ],
 "metadata": {
  "kernelspec": {
   "display_name": "R",
   "language": "R",
   "name": "ir"
  },
  "language_info": {
   "codemirror_mode": "r",
   "file_extension": ".r",
   "mimetype": "text/x-r-source",
   "name": "R",
   "pygments_lexer": "r",
   "version": "4.0.2"
  }
 },
 "nbformat": 4,
 "nbformat_minor": 4
}
